{
 "cells": [
  {
   "cell_type": "markdown",
   "metadata": {},
   "source": [
    "# Index\n",
    "\n",
    "1. [Imports](#Imports)\n",
    "    1. [General](#Imports)\n",
    "    2. [Distributed utilities](#Distributed)\n",
    "    3. [Custom functions](#Custom-functions)\n",
    "2. [Set Data path](#Set-data-path)\n",
    "3. [Tune segmentation parameters](#Tune-segmentation-parameters)\n",
    "4. [Set dask client](#Set-dask-client)\n",
    "5. [Run extraction](#Run-extraction)\n",
    "6. [Save properties](#Save-properties)"
   ]
  },
  {
   "cell_type": "markdown",
   "metadata": {},
   "source": [
    "# Imports"
   ]
  },
  {
   "cell_type": "code",
   "execution_count": null,
   "metadata": {},
   "outputs": [],
   "source": [
    "%pylab inline\n",
    "\n",
    "import cv2\n",
    "\n",
    "import numpy as np\n",
    "\n",
    "import glob\n",
    "\n",
    "import skimage as sk\n",
    "import skimage.morphology\n",
    "from skimage.filters import threshold_otsu, threshold_niblack\n",
    "from skimage import measure\n",
    "from skimage import io\n",
    "\n",
    "import holoviews as hv\n",
    "from holoviews.operation.datashader import datashade, shade\n",
    "from colorcet import fire, gray\n",
    "hv.extension('bokeh')\n",
    "\n",
    "import mahotas as mh\n",
    "\n",
    "import scipy.ndimage.morphology as morph\n",
    "\n",
    "import pandas as pd"
   ]
  },
  {
   "cell_type": "markdown",
   "metadata": {},
   "source": [
    "# Distributed utilities"
   ]
  },
  {
   "cell_type": "code",
   "execution_count": null,
   "metadata": {
    "scrolled": false
   },
   "outputs": [],
   "source": [
    "import dask\n",
    "from dask.distributed import Client\n",
    "from dask_jobqueue import SLURMCluster\n"
   ]
  },
  {
   "cell_type": "code",
   "execution_count": null,
   "metadata": {},
   "outputs": [],
   "source": [
    "import distributed"
   ]
  },
  {
   "cell_type": "code",
   "execution_count": null,
   "metadata": {},
   "outputs": [],
   "source": [
    "'Cluster' in distributed.deploy.__dict__.keys()"
   ]
  },
  {
   "cell_type": "markdown",
   "metadata": {},
   "source": [
    "# Custom functions"
   ]
  },
  {
   "cell_type": "code",
   "execution_count": null,
   "metadata": {},
   "outputs": [],
   "source": [
    "from apseg_utils import *\n",
    "\n",
    "def extract_unlabeled(indx):\n",
    "    \n",
    "    img = sk.io.imread(phase_channel_files[indx])\n",
    "    f_files = [x[indx] for x in fl_files]\n",
    "    conn_comp, cell_masks, img_mask, maxima = extract_connected_components_phase(img, cell_masks=detect_rough_cells(img),min_cell_size=10, max_perc_contrast=None, cut_from_bottom=0,above_cell_pad=0, flip_cells=False,return_all=True,**kwargs)\n",
    "    data = extract_cells(img, conn_comp, f_files)\n",
    "    df = pd.DataFrame.from_dict(data)\n",
    "    \n",
    "    return df"
   ]
  },
  {
   "cell_type": "markdown",
   "metadata": {},
   "source": [
    "# Set data path"
   ]
  },
  {
   "cell_type": "code",
   "execution_count": null,
   "metadata": {},
   "outputs": [],
   "source": [
    "base_dir = '../images/e_03/'"
   ]
  },
  {
   "cell_type": "code",
   "execution_count": null,
   "metadata": {},
   "outputs": [],
   "source": [
    "phase_channel_dir = base_dir + 'C1/'\n",
    "fl_1_channel_dir = base_dir + 'C2/'\n",
    "fl_2_channel_dir = base_dir + 'C3/'\n",
    "\n",
    "phase_channel_files = glob.glob(phase_channel_dir + \"*.tif\")\n",
    "phase_channel_files.sort()\n",
    "\n",
    "fl_1_channel_files = glob.glob(fl_1_channel_dir + \"*.tif\")\n",
    "fl_1_channel_files.sort()\n",
    "\n",
    "fl_2_channel_files = glob.glob(fl_2_channel_dir + \"*.tif\")\n",
    "fl_2_channel_files.sort()\n",
    "\n",
    "fl_files = [fl_1_channel_files, fl_2_channel_files] # and so on"
   ]
  },
  {
   "cell_type": "markdown",
   "metadata": {},
   "source": [
    "# Tune segmentation parameters"
   ]
  },
  {
   "cell_type": "code",
   "execution_count": null,
   "metadata": {},
   "outputs": [],
   "source": [
    "init_niblack_k_def = -4#-4#-4#-0.3\n",
    "maxima_niblack_k_def = -4#-4#-.75 #-0.75\n",
    "init_smooth_sigma_def = 5#5#1.9#1.1\n",
    "maxima_smooth_sigma_def = 9#9 #5# 2\n",
    "maxima_niblack_window_size_def = 5#5#7# 5\n",
    "init_niblack_window_size_def = 9#9#19# 9\n",
    "\n",
    "kwargs = {\"init_niblack_k\" : init_niblack_k_def,\n",
    "          \"maxima_niblack_k\" : maxima_niblack_k_def,\n",
    "          \"init_smooth_sigma\" : init_smooth_sigma_def,\n",
    "          \"maxima_smooth_sigma\" : maxima_smooth_sigma_def,\n",
    "          \"maxima_niblack_window_size\" : maxima_niblack_window_size_def,\n",
    "          \"init_niblack_window_size\" : init_niblack_window_size_def}\n",
    "\n",
    "img = sk.io.imread(phase_channel_files[0])\n",
    "conn_comp = extract_connected_components_phase(img,\n",
    "                                               cell_masks=detect_rough_cells(img),\n",
    "                                               min_cell_size=100, #15\n",
    "                                               max_perc_contrast=None,\n",
    "                                               cut_from_bottom=0,\n",
    "                                               above_cell_pad=0, \n",
    "                                               flip_cells=False,#flips along y-axis\n",
    "                                               return_all=False,\n",
    "                                               init_niblack_k = init_niblack_k_def,\n",
    "                                               maxima_niblack_k = maxima_niblack_k_def,\n",
    "                                               init_smooth_sigma = init_smooth_sigma_def,\n",
    "                                               maxima_smooth_sigma = maxima_smooth_sigma_def,\n",
    "                                               maxima_niblack_window_size = maxima_niblack_window_size_def,\n",
    "                                               init_niblack_window_size = init_niblack_window_size_def)\n",
    "\n",
    "kwargs = {\"init_niblack_k\" : init_niblack_k_def,\n",
    "          \"maxima_niblack_k\" : maxima_niblack_k_def,\n",
    "          \"init_smooth_sigma\" : init_smooth_sigma_def,\n",
    "          \"maxima_smooth_sigma\" : maxima_smooth_sigma_def,\n",
    "          \"maxima_niblack_window_size\" : maxima_niblack_window_size_def,\n",
    "          \"init_niblack_window_size\" : init_niblack_window_size_def}\n",
    "\n",
    "holoplot(img, conn_comp)"
   ]
  },
  {
   "cell_type": "code",
   "execution_count": null,
   "metadata": {},
   "outputs": [],
   "source": [
    "hv.Image(conn_comp)\n"
   ]
  },
  {
   "cell_type": "code",
   "execution_count": null,
   "metadata": {},
   "outputs": [],
   "source": [
    "im1 = conn_comp.copy()\n",
    "im1[im1<.4]=0\n",
    "plt.imshow(im1)\n",
    "plt.imshow(img)"
   ]
  },
  {
   "cell_type": "markdown",
   "metadata": {},
   "source": [
    "# Set dask client"
   ]
  },
  {
   "cell_type": "code",
   "execution_count": 18,
   "metadata": {
    "scrolled": true
   },
   "outputs": [
    {
     "ename": "TypeError",
     "evalue": "The dask.set_options function has been deprecated.\nPlease use dask.config.set instead\n\n  Before: with dask.set_options(foo='bar'):\n              ...\n  After:  with dask.config.set(foo='bar'):\n              ...",
     "output_type": "error",
     "traceback": [
      "\u001b[0;31m---------------------------------------------------------------------------\u001b[0m",
      "\u001b[0;31mTypeError\u001b[0m                                 Traceback (most recent call last)",
      "\u001b[0;32m<ipython-input-18-edd593f47c04>\u001b[0m in \u001b[0;36m<module>\u001b[0;34m()\u001b[0m\n\u001b[1;32m      3\u001b[0m \u001b[0;34m\u001b[0m\u001b[0m\n\u001b[1;32m      4\u001b[0m \u001b[0;32mif\u001b[0m \u001b[0mrun_local\u001b[0m\u001b[0;34m:\u001b[0m\u001b[0;34m\u001b[0m\u001b[0;34m\u001b[0m\u001b[0m\n\u001b[0;32m----> 5\u001b[0;31m     \u001b[0mclient\u001b[0m \u001b[0;34m=\u001b[0m \u001b[0mClient\u001b[0m\u001b[0;34m(\u001b[0m\u001b[0;34m)\u001b[0m\u001b[0;34m\u001b[0m\u001b[0;34m\u001b[0m\u001b[0m\n\u001b[0m\u001b[1;32m      6\u001b[0m     \u001b[0mclient\u001b[0m\u001b[0;34m.\u001b[0m\u001b[0mcluster\u001b[0m\u001b[0;34m.\u001b[0m\u001b[0mscale\u001b[0m\u001b[0;34m(\u001b[0m\u001b[0mn_workers_init\u001b[0m\u001b[0;34m)\u001b[0m\u001b[0;34m\u001b[0m\u001b[0;34m\u001b[0m\u001b[0m\n\u001b[1;32m      7\u001b[0m     \u001b[0mtime\u001b[0m\u001b[0;34m.\u001b[0m\u001b[0msleep\u001b[0m\u001b[0;34m(\u001b[0m\u001b[0;36m5\u001b[0m\u001b[0;34m)\u001b[0m \u001b[0;31m# allow client time to respond to scaling before display\u001b[0m\u001b[0;34m\u001b[0m\u001b[0;34m\u001b[0m\u001b[0m\n",
      "\u001b[0;32m~/anaconda3/lib/python3.6/site-packages/distributed/client.py\u001b[0m in \u001b[0;36m__init__\u001b[0;34m(self, address, loop, timeout, set_as_default, scheduler_file, security, asynchronous, name, **kwargs)\u001b[0m\n\u001b[1;32m    531\u001b[0m         \u001b[0;32mif\u001b[0m \u001b[0mtimeout\u001b[0m \u001b[0;32mis\u001b[0m \u001b[0;32mnot\u001b[0m \u001b[0;32mNone\u001b[0m\u001b[0;34m:\u001b[0m\u001b[0;34m\u001b[0m\u001b[0;34m\u001b[0m\u001b[0m\n\u001b[1;32m    532\u001b[0m             \u001b[0mtimeout\u001b[0m \u001b[0;34m=\u001b[0m \u001b[0mparse_timedelta\u001b[0m\u001b[0;34m(\u001b[0m\u001b[0mtimeout\u001b[0m\u001b[0;34m,\u001b[0m \u001b[0;34m's'\u001b[0m\u001b[0;34m)\u001b[0m\u001b[0;34m\u001b[0m\u001b[0;34m\u001b[0m\u001b[0m\n\u001b[0;32m--> 533\u001b[0;31m         \u001b[0mself\u001b[0m\u001b[0;34m.\u001b[0m\u001b[0m_timeout\u001b[0m \u001b[0;34m=\u001b[0m \u001b[0mtimeout\u001b[0m\u001b[0;34m\u001b[0m\u001b[0;34m\u001b[0m\u001b[0m\n\u001b[0m\u001b[1;32m    534\u001b[0m \u001b[0;34m\u001b[0m\u001b[0m\n\u001b[1;32m    535\u001b[0m         \u001b[0mself\u001b[0m\u001b[0;34m.\u001b[0m\u001b[0mfutures\u001b[0m \u001b[0;34m=\u001b[0m \u001b[0mdict\u001b[0m\u001b[0;34m(\u001b[0m\u001b[0;34m)\u001b[0m\u001b[0;34m\u001b[0m\u001b[0;34m\u001b[0m\u001b[0m\n",
      "\u001b[0;32m~/anaconda3/lib/python3.6/site-packages/dask/context.py\u001b[0m in \u001b[0;36mset_options\u001b[0;34m(*args, **kwargs)\u001b[0m\n\u001b[1;32m     16\u001b[0m \u001b[0;32mdef\u001b[0m \u001b[0mset_options\u001b[0m\u001b[0;34m(\u001b[0m\u001b[0;34m*\u001b[0m\u001b[0margs\u001b[0m\u001b[0;34m,\u001b[0m \u001b[0;34m**\u001b[0m\u001b[0mkwargs\u001b[0m\u001b[0;34m)\u001b[0m\u001b[0;34m:\u001b[0m\u001b[0;34m\u001b[0m\u001b[0;34m\u001b[0m\u001b[0m\n\u001b[1;32m     17\u001b[0m     \u001b[0;34m\"\"\" Deprecated: see dask.config.set instead \"\"\"\u001b[0m\u001b[0;34m\u001b[0m\u001b[0;34m\u001b[0m\u001b[0m\n\u001b[0;32m---> 18\u001b[0;31m     raise TypeError(\"The dask.set_options function has been deprecated.\\n\"\n\u001b[0m\u001b[1;32m     19\u001b[0m                     \u001b[0;34m\"Please use dask.config.set instead\\n\\n\"\u001b[0m\u001b[0;34m\u001b[0m\u001b[0;34m\u001b[0m\u001b[0m\n\u001b[1;32m     20\u001b[0m                     \u001b[0;34m\"  Before: with dask.set_options(foo='bar'):\\n\"\u001b[0m\u001b[0;34m\u001b[0m\u001b[0;34m\u001b[0m\u001b[0m\n",
      "\u001b[0;31mTypeError\u001b[0m: The dask.set_options function has been deprecated.\nPlease use dask.config.set instead\n\n  Before: with dask.set_options(foo='bar'):\n              ...\n  After:  with dask.config.set(foo='bar'):\n              ..."
     ]
    }
   ],
   "source": [
    "run_local = True\n",
    "n_workers_init = 4\n",
    "\n",
    "if run_local:\n",
    "    client = Client()\n",
    "    client.cluster.scale(n_workers_init)\n",
    "    time.sleep(5) # allow client time to respond to scaling before display\n",
    "else:\n",
    "    # note the specifed walltime, don't use too much or too little, 01:30:00 is a good baseline, \n",
    "    # you just need enough time to finish 'gathering' to props_all before the jobs die\n",
    "    # you can always spin up more jobs later\n",
    "    # you will launch many jobs, so you don't need multiple processes, a lot of ram or multiple threads\n",
    "    cluster = SLURMCluster(queue=\"short\",walltime='01:30:00',cores=1,memory='6G',processes=1)\n",
    "    cluster.start_workers(n_workers_init)\n",
    "    client = Client(cluster)\n",
    "\n",
    "client"
   ]
  },
  {
   "cell_type": "markdown",
   "metadata": {},
   "source": [
    "# Run extraction"
   ]
  },
  {
   "cell_type": "code",
   "execution_count": 33,
   "metadata": {},
   "outputs": [
    {
     "data": {
      "application/vnd.jupyter.widget-view+json": {
       "model_id": "61a41efeb4d549d88f81aafadcef13e1",
       "version_major": 2,
       "version_minor": 0
      },
      "text/plain": [
       "VBox()"
      ]
     },
     "metadata": {},
     "output_type": "display_data"
    }
   ],
   "source": [
    "fut = client.map(extract_unlabeled,range(len(phase_channel_files)))\n",
    "dask.distributed.progress(fut)"
   ]
  },
  {
   "cell_type": "code",
   "execution_count": null,
   "metadata": {},
   "outputs": [],
   "source": [
    "len(fl_files[0])"
   ]
  },
  {
   "cell_type": "markdown",
   "metadata": {},
   "source": [
    "# Save properties"
   ]
  },
  {
   "cell_type": "code",
   "execution_count": 35,
   "metadata": {
    "scrolled": false
   },
   "outputs": [
    {
     "name": "stdout",
     "output_type": "stream",
     "text": [
      "Done!\n"
     ]
    }
   ],
   "source": [
    "props = client.gather(fut)\n",
    "props_all = pd.concat(props)\n",
    "#int_dtype_list = props_all.select_dtypes(include=np.int64).dtypes.index.tolist()\n",
    "#props_all[int_dtype_list] = props_all[int_dtype_list].astype(np.uint16)\n",
    "save_dir = base_dir+'seg_output'#\n",
    "props_all['kind'] = 'unknown'\n",
    "props_all.to_pickle(save_dir + '/Data_01.pkl')\n",
    "print('Done!')"
   ]
  },
  {
   "cell_type": "code",
   "execution_count": null,
   "metadata": {},
   "outputs": [],
   "source": []
  }
 ],
 "metadata": {
  "kernelspec": {
   "display_name": "Python 3",
   "language": "python",
   "name": "python3"
  },
  "language_info": {
   "codemirror_mode": {
    "name": "ipython",
    "version": 3
   },
   "file_extension": ".py",
   "mimetype": "text/x-python",
   "name": "python",
   "nbconvert_exporter": "python",
   "pygments_lexer": "ipython3",
   "version": "3.6.8"
  }
 },
 "nbformat": 4,
 "nbformat_minor": 2
}
